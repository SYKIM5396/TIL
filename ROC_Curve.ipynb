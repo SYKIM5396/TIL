{
  "nbformat": 4,
  "nbformat_minor": 0,
  "metadata": {
    "colab": {
      "provenance": [],
      "authorship_tag": "ABX9TyN3rnm/IFEoDV/gyXPMT7fT",
      "include_colab_link": true
    },
    "kernelspec": {
      "name": "python3",
      "display_name": "Python 3"
    },
    "language_info": {
      "name": "python"
    }
  },
  "cells": [
    {
      "cell_type": "markdown",
      "metadata": {
        "id": "view-in-github",
        "colab_type": "text"
      },
      "source": [
        "<a href=\"https://colab.research.google.com/github/SYKIM5396/TIL/blob/main/ROC_Curve.ipynb\" target=\"_parent\"><img src=\"https://colab.research.google.com/assets/colab-badge.svg\" alt=\"Open In Colab\"/></a>"
      ]
    },
    {
      "cell_type": "code",
      "execution_count": 1,
      "metadata": {
        "colab": {
          "base_uri": "https://localhost:8080/"
        },
        "id": "NCUBiWQbWctt",
        "outputId": "f83ad860-8242-4ccb-939b-ee8d0e9e9e6f"
      },
      "outputs": [
        {
          "output_type": "stream",
          "name": "stdout",
          "text": [
            "Looking in indexes: https://pypi.org/simple, https://us-python.pkg.dev/colab-wheels/public/simple/\n",
            "Requirement already satisfied: category_encoders in /usr/local/lib/python3.7/dist-packages (2.5.0)\n",
            "Requirement already satisfied: patsy>=0.5.1 in /usr/local/lib/python3.7/dist-packages (from category_encoders) (0.5.2)\n",
            "Requirement already satisfied: statsmodels>=0.9.0 in /usr/local/lib/python3.7/dist-packages (from category_encoders) (0.12.2)\n",
            "Requirement already satisfied: scipy>=1.0.0 in /usr/local/lib/python3.7/dist-packages (from category_encoders) (1.7.3)\n",
            "Requirement already satisfied: scikit-learn>=0.20.0 in /usr/local/lib/python3.7/dist-packages (from category_encoders) (1.0.2)\n",
            "Requirement already satisfied: numpy>=1.14.0 in /usr/local/lib/python3.7/dist-packages (from category_encoders) (1.21.6)\n",
            "Requirement already satisfied: pandas>=1.0.5 in /usr/local/lib/python3.7/dist-packages (from category_encoders) (1.3.5)\n",
            "Requirement already satisfied: pytz>=2017.3 in /usr/local/lib/python3.7/dist-packages (from pandas>=1.0.5->category_encoders) (2022.2.1)\n",
            "Requirement already satisfied: python-dateutil>=2.7.3 in /usr/local/lib/python3.7/dist-packages (from pandas>=1.0.5->category_encoders) (2.8.2)\n",
            "Requirement already satisfied: six in /usr/local/lib/python3.7/dist-packages (from patsy>=0.5.1->category_encoders) (1.15.0)\n",
            "Requirement already satisfied: joblib>=0.11 in /usr/local/lib/python3.7/dist-packages (from scikit-learn>=0.20.0->category_encoders) (1.1.0)\n",
            "Requirement already satisfied: threadpoolctl>=2.0.0 in /usr/local/lib/python3.7/dist-packages (from scikit-learn>=0.20.0->category_encoders) (3.1.0)\n"
          ]
        }
      ],
      "source": [
        "!pip install category_encoders"
      ]
    },
    {
      "cell_type": "code",
      "source": [
        "import pandas as pd\n",
        "\n",
        "import numpy as np\n",
        "import matplotlib.pyplot as plt\n",
        "from sklearn.model_selection import train_test_split\n",
        "from category_encoders import OneHotEncoder\n",
        "from sklearn.preprocessing import StandardScaler\n",
        "from sklearn.linear_model import LogisticRegression\n",
        "\n",
        "import warnings\n",
        "warnings.filterwarnings(action='ignore')"
      ],
      "metadata": {
        "id": "KLPYACTiWehT"
      },
      "execution_count": 2,
      "outputs": []
    },
    {
      "cell_type": "code",
      "source": [
        "df = pd.read_csv('https://ds-lecture-data.s3.ap-northeast-2.amazonaws.com/cardio/cardio_train.csv', sep=';')"
      ],
      "metadata": {
        "id": "QT-5LbhcYOrZ"
      },
      "execution_count": 3,
      "outputs": []
    },
    {
      "cell_type": "code",
      "source": [
        "df.drop(\"id\",axis=1, inplace=True)"
      ],
      "metadata": {
        "id": "RS26KEOFevxr"
      },
      "execution_count": 4,
      "outputs": []
    },
    {
      "cell_type": "code",
      "source": [
        "# 훈련셋 테스트셋 나누기\n",
        "X = df.drop('cardio', axis=1)\n",
        "y = df['cardio']\n",
        "\n",
        "X_train, X_test, y_train, y_test = train_test_split(X, y, test_size=0.2, random_state=2)\n",
        "X_train, X_val, y_train, y_val = train_test_split(X_train, y_train, test_size=0.2, random_state=2)\n",
        "\n",
        "numeric_feats = ['age','height','weight','ap_hi','ap_lo']\n",
        "\n",
        "scaler = StandardScaler()\n",
        "X_train[numeric_feats] = scaler.fit_transform(X_train[numeric_feats])\n",
        "X_val[numeric_feats] = scaler.transform(X_val[numeric_feats])\n",
        "X_test[numeric_feats] = scaler.transform(X_test[numeric_feats])\n",
        "\n",
        "#원핫인코딩\n",
        "ohe = OneHotEncoder(use_cat_names=True, cols = ['gender'])\n",
        "\n",
        "X_train_ohe = ohe.fit_transform(X_train)\n",
        "X_val_ohe = ohe.transform(X_val)\n",
        "X_test_ohe = ohe.transform(X_test)"
      ],
      "metadata": {
        "id": "eF8OAfvsezJc"
      },
      "execution_count": 5,
      "outputs": []
    },
    {
      "cell_type": "code",
      "source": [
        "logistic = LogisticRegression(max_iter=1000)\n",
        "logistic.fit(X_train_ohe, y_train)"
      ],
      "metadata": {
        "colab": {
          "base_uri": "https://localhost:8080/"
        },
        "id": "0no1yd6HXWVb",
        "outputId": "772a0a41-003f-4e95-e451-527e44fa5881"
      },
      "execution_count": 6,
      "outputs": [
        {
          "output_type": "execute_result",
          "data": {
            "text/plain": [
              "LogisticRegression(max_iter=1000)"
            ]
          },
          "metadata": {},
          "execution_count": 6
        }
      ]
    },
    {
      "cell_type": "code",
      "source": [
        "# 사이킷런 라이브러리 없이 TPR, FPR 구하는 함수\n",
        "def calculate_prs(y_pred_proba, y_real, threshold):\n",
        "    TPR = 0.0\n",
        "    FPR = 0.0\n",
        "\n",
        "    # YOUR CODE HERE\n",
        "    y_pred = y_pred_proba > threshold\n",
        "    \n",
        "    tp = sum((y_pred == 1) & (y_real == 1))\n",
        "    tn = sum((y_pred != 1) & (y_real != 1))\n",
        "    fp = sum((y_pred == 1) & (y_real != 1))\n",
        "    fn = sum((y_pred != 1) & (y_real == 1))\n",
        "    \n",
        "    TPR = tp / (tp + fn)\n",
        "    FPR = fp / (fp + tn)\n",
        "    # YOUR CODE ENDS HERE\n",
        "\n",
        "    return TPR, FPR"
      ],
      "metadata": {
        "id": "jGKTjTGSW8xs"
      },
      "execution_count": 7,
      "outputs": []
    },
    {
      "cell_type": "code",
      "source": [
        "import matplotlib.pyplot as plt\n",
        "\n",
        "y_pred_proba = logistic.predict_proba(X_test_ohe)[:,1]\n",
        "y_real = y_test\n",
        "thresholds = np.arange(0.01,1,0.01)\n",
        "tprs, fprs = [], []\n",
        "\n",
        "for th in thresholds:\n",
        "    tprs.append(calculate_prs(y_pred_proba, y_real, th)[0])\n",
        "    fprs.append(calculate_prs(y_pred_proba, y_real, th)[1])\n",
        "\n",
        "#TPR이 최대가 되고 FPR이 최소가 되는 지점 : 최적의 임계값\n",
        "optimal_idx = np.argmax(np.array(tprs) - np.array(fprs))\n",
        "optimal_threshold = thresholds[optimal_idx]\n",
        "optimal_tpr = tprs[optimal_idx]\n",
        "optimal_fpr = fprs[optimal_idx]\n",
        "\n",
        "print(\"optimal_threshold={}, optimal_tpr={}, optimal_fpr={}\".format(round(optimal_threshold,2),round(optimal_tpr,2),round(optimal_fpr,2)))\n",
        "\n",
        "plt.scatter(optimal_fpr, optimal_tpr, color = 'red', alpha=1, label='Optimal Threshold')\n",
        "plt.plot(fprs, tprs)\n",
        "plt.xlabel(\"FPR\")\n",
        "plt.ylabel(\"TPR\")\n",
        "plt.title(\"ROC Curve\")\n",
        "plt.show()"
      ],
      "metadata": {
        "colab": {
          "base_uri": "https://localhost:8080/",
          "height": 313
        },
        "id": "fuLVm8AvXGIL",
        "outputId": "8c608d0c-75a5-454b-bf31-a4c3c4b183de"
      },
      "execution_count": 8,
      "outputs": [
        {
          "output_type": "stream",
          "name": "stdout",
          "text": [
            "optimal_threshold=0.48, optimal_tpr=0.71, optimal_fpr=0.26\n"
          ]
        },
        {
          "output_type": "display_data",
          "data": {
            "text/plain": [
              "<Figure size 432x288 with 1 Axes>"
            ],
            "image/png": "[encoded data removed]"
          },
          "metadata": {
            "needs_background": "light"
          }
        }
      ]
    },
    {
      "cell_type": "code",
      "source": [
        "from sklearn.metrics import roc_auc_score\n",
        "\n",
        "auc = roc_auc_score(y_test, y_pred_proba)\n",
        "print(f\"auc score : {auc.round(3)}\")"
      ],
      "metadata": {
        "colab": {
          "base_uri": "https://localhost:8080/"
        },
        "id": "oIqG5L9JWHCN",
        "outputId": "ec26584a-718b-4f7f-e5a3-5027a0f06385"
      },
      "execution_count": 9,
      "outputs": [
        {
          "output_type": "stream",
          "name": "stdout",
          "text": [
            "auc score : 0.785\n"
          ]
        }
      ]
    }
  ]
}